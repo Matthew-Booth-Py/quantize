{
 "cells": [
  {
   "cell_type": "markdown",
   "id": "4aec7b03",
   "metadata": {},
   "source": [
    "# Quantized vs. FP16 Accuracy Check\n",
    "\n",
    "This streamlined notebook compares a standard FP16 model against an 8-bit quantized variant on a small IMDB sentiment subset.\n"
   ]
  },
  {
   "cell_type": "code",
   "execution_count": 1,
   "id": "5f360a4f",
   "metadata": {},
   "outputs": [
    {
     "name": "stderr",
     "output_type": "stream",
     "text": [
      "c:\\git\\quanitze\\.venv\\Lib\\site-packages\\tqdm\\auto.py:21: TqdmWarning: IProgress not found. Please update jupyter and ipywidgets. See https://ipywidgets.readthedocs.io/en/stable/user_install.html\n",
      "  from .autonotebook import tqdm as notebook_tqdm\n"
     ]
    },
    {
     "data": {
      "text/plain": [
       "torch.autograd.grad_mode.set_grad_enabled(mode=False)"
      ]
     },
     "execution_count": 1,
     "metadata": {},
     "output_type": "execute_result"
    }
   ],
   "source": [
    "import torch\n",
    "from datasets import DatasetDict, load_dataset\n",
    "from transformers import (\n",
    "    AutoModelForSequenceClassification,\n",
    "    AutoTokenizer,\n",
    "    BitsAndBytesConfig,\n",
    ")\n",
    "from sklearn.metrics import accuracy_score, classification_report\n",
    "from typing import Dict\n",
    "\n",
    "torch.set_grad_enabled(False)\n"
   ]
  },
  {
   "cell_type": "code",
   "execution_count": 2,
   "id": "0337f146",
   "metadata": {},
   "outputs": [
    {
     "name": "stdout",
     "output_type": "stream",
     "text": [
      "train: 500 examples\n",
      "test: 500 examples\n",
      "unsupervised: 1000 examples\n"
     ]
    }
   ],
   "source": [
    "# Load a manageable IMDB subset for quick experimentation\n",
    "sample_fraction = 0.02\n",
    "raw_datasets = load_dataset(\"imdb\")\n",
    "imdb_small = DatasetDict({\n",
    "    split: ds.shuffle(seed=42).select(list(range(max(1, int(len(ds) * sample_fraction)))))\n",
    "    for split, ds in raw_datasets.items()\n",
    "})\n",
    "\n",
    "for split, ds in imdb_small.items():\n",
    "    print(f\"{split}: {len(ds)} examples\")\n"
   ]
  },
  {
   "cell_type": "code",
   "execution_count": 3,
   "id": "a971a288",
   "metadata": {},
   "outputs": [],
   "source": [
    "def get_device() -> torch.device:\n",
    "    return torch.device(\"cuda\") if torch.cuda.is_available() else torch.device(\"cpu\")\n",
    "\n",
    "def get_gpu_memory_mb() -> float:\n",
    "    if not torch.cuda.is_available():\n",
    "        return 0.0\n",
    "    torch.cuda.empty_cache()\n",
    "    return torch.cuda.memory_allocated() / 1024 ** 2\n",
    "\n",
    "def evaluate_model(model: AutoModelForSequenceClassification, dataset, tokenizer, description: str, batch_size: int = 32) -> Dict[str, float]:\n",
    "    model.eval()\n",
    "    device = get_device()\n",
    "\n",
    "    all_preds = []\n",
    "    all_labels = []\n",
    "\n",
    "    for start in range(0, len(dataset), batch_size):\n",
    "        batch = dataset[start:start + batch_size]\n",
    "        inputs = tokenizer(batch[\"text\"], return_tensors=\"pt\", padding=True, truncation=True)\n",
    "        labels = torch.tensor(batch[\"label\"], dtype=torch.long)\n",
    "        inputs = {k: v.to(device) for k, v in inputs.items()}\n",
    "        labels = labels.to(device)\n",
    "\n",
    "        with torch.inference_mode():\n",
    "            logits = model(**inputs).logits\n",
    "        preds = logits.argmax(dim=-1)\n",
    "\n",
    "        all_preds.extend(preds.cpu().tolist())\n",
    "        all_labels.extend(labels.cpu().tolist())\n",
    "\n",
    "    accuracy = accuracy_score(all_labels, all_preds)\n",
    "    report = classification_report(all_labels, all_preds, digits=4)\n",
    "\n",
    "    print(f\"\\n{description} accuracy: {accuracy:.4f}\")\n",
    "    print(report)\n",
    "    return {\n",
    "        \"accuracy\": accuracy,\n",
    "        \"report\": report,\n",
    "        \"predictions\": all_preds,\n",
    "        \"labels\": all_labels,\n",
    "    }\n"
   ]
  },
  {
   "cell_type": "code",
   "execution_count": 4,
   "id": "2fdbb898",
   "metadata": {},
   "outputs": [
    {
     "name": "stderr",
     "output_type": "stream",
     "text": [
      "`torch_dtype` is deprecated! Use `dtype` instead!\n"
     ]
    },
    {
     "name": "stdout",
     "output_type": "stream",
     "text": [
      "Using device: cuda\n"
     ]
    },
    {
     "name": "stderr",
     "output_type": "stream",
     "text": [
      "Some weights of ModernBertForSequenceClassification were not initialized from the model checkpoint at answerdotai/ModernBERT-base and are newly initialized: ['classifier.bias', 'classifier.weight']\n",
      "You should probably TRAIN this model on a down-stream task to be able to use it for predictions and inference.\n"
     ]
    },
    {
     "name": "stdout",
     "output_type": "stream",
     "text": [
      "Base model memory footprint: 295.21 MB\n"
     ]
    },
    {
     "name": "stderr",
     "output_type": "stream",
     "text": [
      "Some weights of ModernBertForSequenceClassification were not initialized from the model checkpoint at answerdotai/ModernBERT-base and are newly initialized: ['classifier.bias', 'classifier.weight']\n",
      "You should probably TRAIN this model on a down-stream task to be able to use it for predictions and inference.\n"
     ]
    },
    {
     "name": "stdout",
     "output_type": "stream",
     "text": [
      "Quantized model memory footprint: 180.44 MB\n"
     ]
    }
   ],
   "source": [
    "device = get_device()\n",
    "model_name = \"answerdotai/ModernBERT-base\"\n",
    "tokenizer = AutoTokenizer.from_pretrained(model_name)\n",
    "\n",
    "print(f\"Using device: {device}\")\n",
    "base_before = get_gpu_memory_mb()\n",
    "base_model = AutoModelForSequenceClassification.from_pretrained(\n",
    "    model_name,\n",
    "    num_labels=2,\n",
    "    torch_dtype=torch.float16 if device.type == \"cuda\" else torch.float32,\n",
    ")\n",
    "base_model.to(device)\n",
    "base_after = get_gpu_memory_mb()\n",
    "print(f\"Base model memory footprint: {base_after - base_before:.2f} MB\")\n",
    "\n",
    "quant_model = None\n",
    "quant_before = quant_after = 0.0\n",
    "if device.type == \"cuda\":\n",
    "    try:\n",
    "        quant_config = BitsAndBytesConfig(load_in_8bit=True)\n",
    "        quant_before = get_gpu_memory_mb()\n",
    "        quant_model = AutoModelForSequenceClassification.from_pretrained(\n",
    "            model_name,\n",
    "            num_labels=2,\n",
    "            quantization_config=quant_config,\n",
    "            device_map=\"auto\",\n",
    "        )\n",
    "        quant_after = get_gpu_memory_mb()\n",
    "        print(f\"Quantized model memory footprint: {quant_after - quant_before:.2f} MB\")\n",
    "    except Exception as exc:\n",
    "        quant_model = None\n",
    "        print(f\"Quantized loading failed: {exc}\")\n",
    "else:\n",
    "    print(\"Quantized loading skipped (requires CUDA + bitsandbytes).\")\n"
   ]
  },
  {
   "cell_type": "code",
   "execution_count": 5,
   "id": "493b657f",
   "metadata": {},
   "outputs": [
    {
     "name": "stdout",
     "output_type": "stream",
     "text": [
      "\n",
      "FP16 base model accuracy: 0.5140\n",
      "              precision    recall  f1-score   support\n",
      "\n",
      "           0     0.5112    0.9882    0.6738       254\n",
      "           1     0.6667    0.0244    0.0471       246\n",
      "\n",
      "    accuracy                         0.5140       500\n",
      "   macro avg     0.5889    0.5063    0.3604       500\n",
      "weighted avg     0.5877    0.5140    0.3655       500\n",
      "\n",
      "\n",
      "8-bit quantized model accuracy: 0.4720\n",
      "              precision    recall  f1-score   support\n",
      "\n",
      "           0     0.4038    0.0827    0.1373       254\n",
      "           1     0.4799    0.8740    0.6196       246\n",
      "\n",
      "    accuracy                         0.4720       500\n",
      "   macro avg     0.4419    0.4783    0.3784       500\n",
      "weighted avg     0.4413    0.4720    0.3746       500\n",
      "\n",
      "Accuracy delta (quantized - base): -0.0420\n"
     ]
    }
   ],
   "source": [
    "test_dataset = imdb_small[\"test\"]\n",
    "base_results = evaluate_model(base_model, test_dataset, tokenizer, \"FP16 base model\")\n",
    "\n",
    "if quant_model is not None:\n",
    "    quant_results = evaluate_model(quant_model, test_dataset, tokenizer, \"8-bit quantized model\")\n",
    "    delta = quant_results[\"accuracy\"] - base_results[\"accuracy\"]\n",
    "    print(f\"Accuracy delta (quantized - base): {delta:+.4f}\")\n",
    "else:\n",
    "    print(\"Quantized model was not created, so only the FP16 baseline is reported.\")\n"
   ]
  }
 ],
 "metadata": {
  "kernelspec": {
   "display_name": ".venv",
   "language": "python",
   "name": "python3"
  },
  "language_info": {
   "codemirror_mode": {
    "name": "ipython",
    "version": 3
   },
   "file_extension": ".py",
   "mimetype": "text/x-python",
   "name": "python",
   "nbconvert_exporter": "python",
   "pygments_lexer": "ipython3",
   "version": "3.13.6"
  }
 },
 "nbformat": 4,
 "nbformat_minor": 5
}
