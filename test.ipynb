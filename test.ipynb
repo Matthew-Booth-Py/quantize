{
 "cells": [
  {
   "cell_type": "markdown",
   "metadata": {},
   "source": [
    "# Quantized vs. FP16 Accuracy Check\n",
    "\n",
    "This streamlined notebook compares a standard FP16 model against an 8-bit quantized variant on a small IMDB sentiment subset.\n"
   ]
  },
  {
   "cell_type": "code",
   "execution_count": null,
   "metadata": {},
   "outputs": [],
   "source": [
    "import torch\n",
    "from datasets import DatasetDict, load_dataset\n",
    "from transformers import (\n",
    "    AutoModelForSequenceClassification,\n",
    "    AutoTokenizer,\n",
    "    BitsAndBytesConfig,\n",
    ")\n",
    "from sklearn.metrics import accuracy_score, classification_report\n",
    "from typing import Dict\n",
    "\n",
    "torch.set_grad_enabled(False)\n"
   ]
  },
  {
   "cell_type": "code",
   "execution_count": null,
   "metadata": {},
   "outputs": [],
   "source": [
    "# Load a manageable IMDB subset for quick experimentation\n",
    "sample_fraction = 0.02\n",
    "raw_datasets = load_dataset(\"imdb\")\n",
    "imdb_small = DatasetDict({\n",
    "    split: ds.shuffle(seed=42).select(list(range(max(1, int(len(ds) * sample_fraction)))))\n",
    "    for split, ds in raw_datasets.items()\n",
    "})\n",
    "\n",
    "for split, ds in imdb_small.items():\n",
    "    print(f\"{split}: {len(ds)} examples\")\n"
   ]
  },
  {
   "cell_type": "code",
   "execution_count": null,
   "metadata": {},
   "outputs": [],
   "source": [
    "def get_device() -> torch.device:\n",
    "    return torch.device(\"cuda\") if torch.cuda.is_available() else torch.device(\"cpu\")\n",
    "\n",
    "def get_gpu_memory_mb() -> float:\n",
    "    if not torch.cuda.is_available():\n",
    "        return 0.0\n",
    "    torch.cuda.empty_cache()\n",
    "    return torch.cuda.memory_allocated() / 1024 ** 2\n",
    "\n",
    "def evaluate_model(model: AutoModelForSequenceClassification, dataset, tokenizer, description: str, batch_size: int = 32) -> Dict[str, float]:\n",
    "    model.eval()\n",
    "    device = get_device()\n",
    "\n",
    "    all_preds = []\n",
    "    all_labels = []\n",
    "\n",
    "    for start in range(0, len(dataset), batch_size):\n",
    "        batch = dataset[start:start + batch_size]\n",
    "        inputs = tokenizer(batch[\"text\"], return_tensors=\"pt\", padding=True, truncation=True)\n",
    "        labels = torch.tensor(batch[\"label\"], dtype=torch.long)\n",
    "        inputs = {k: v.to(device) for k, v in inputs.items()}\n",
    "        labels = labels.to(device)\n",
    "\n",
    "        with torch.inference_mode():\n",
    "            logits = model(**inputs).logits\n",
    "        preds = logits.argmax(dim=-1)\n",
    "\n",
    "        all_preds.extend(preds.cpu().tolist())\n",
    "        all_labels.extend(labels.cpu().tolist())\n",
    "\n",
    "    accuracy = accuracy_score(all_labels, all_preds)\n",
    "    report = classification_report(all_labels, all_preds, digits=4)\n",
    "\n",
    "    print(f\"\\n{description} accuracy: {accuracy:.4f}\")\n",
    "    print(report)\n",
    "    return {\n",
    "        \"accuracy\": accuracy,\n",
    "        \"report\": report,\n",
    "        \"predictions\": all_preds,\n",
    "        \"labels\": all_labels,\n",
    "    }\n"
   ]
  },
  {
   "cell_type": "code",
   "execution_count": null,
   "metadata": {},
   "outputs": [],
   "source": [
    "device = get_device()\n",
    "model_name = \"answerdotai/ModernBERT-base\"\n",
    "tokenizer = AutoTokenizer.from_pretrained(model_name)\n",
    "\n",
    "print(f\"Using device: {device}\")\n",
    "base_before = get_gpu_memory_mb()\n",
    "base_model = AutoModelForSequenceClassification.from_pretrained(\n",
    "    model_name,\n",
    "    num_labels=2,\n",
    "    torch_dtype=torch.float16 if device.type == \"cuda\" else torch.float32,\n",
    ")\n",
    "base_model.to(device)\n",
    "base_after = get_gpu_memory_mb()\n",
    "print(f\"Base model memory footprint: {base_after - base_before:.2f} MB\")\n",
    "\n",
    "quant_model = None\n",
    "quant_before = quant_after = 0.0\n",
    "if device.type == \"cuda\":\n",
    "    try:\n",
    "        quant_config = BitsAndBytesConfig(load_in_8bit=True)\n",
    "        quant_before = get_gpu_memory_mb()\n",
    "        quant_model = AutoModelForSequenceClassification.from_pretrained(\n",
    "            model_name,\n",
    "            num_labels=2,\n",
    "            quantization_config=quant_config,\n",
    "            device_map=\"auto\",\n",
    "        )\n",
    "        quant_after = get_gpu_memory_mb()\n",
    "        print(f\"Quantized model memory footprint: {quant_after - quant_before:.2f} MB\")\n",
    "    except Exception as exc:\n",
    "        quant_model = None\n",
    "        print(f\"Quantized loading failed: {exc}\")\n",
    "else:\n",
    "    print(\"Quantized loading skipped (requires CUDA + bitsandbytes).\")\n"
   ]
  },
  {
   "cell_type": "code",
   "execution_count": null,
   "metadata": {},
   "outputs": [],
   "source": [
    "test_dataset = imdb_small[\"test\"]\n",
    "base_results = evaluate_model(base_model, test_dataset, tokenizer, \"FP16 base model\")\n",
    "\n",
    "if quant_model is not None:\n",
    "    quant_results = evaluate_model(quant_model, test_dataset, tokenizer, \"8-bit quantized model\")\n",
    "    delta = quant_results[\"accuracy\"] - base_results[\"accuracy\"]\n",
    "    print(f\"Accuracy delta (quantized - base): {delta:+.4f}\")\n",
    "else:\n",
    "    print(\"Quantized model was not created, so only the FP16 baseline is reported.\")\n"
   ]
  }
 ],
 "metadata": {
  "kernelspec": {
   "display_name": "quanitze",
   "language": "python",
   "name": "python3"
  },
  "language_info": {
   "codemirror_mode": {
    "name": "ipython",
    "version": 3
   },
   "file_extension": ".py",
   "mimetype": "text/x-python",
   "name": "python",
   "nbconvert_exporter": "python",
   "pygments_lexer": "ipython3",
   "version": "3.13.6"
  }
 },
 "nbformat": 4,
 "nbformat_minor": 5
}