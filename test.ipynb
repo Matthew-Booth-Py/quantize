{
 "cells": [
  {
   "cell_type": "code",
   "execution_count": 1,
   "id": "6316c9cd",
   "metadata": {},
   "outputs": [
    {
     "name": "stderr",
     "output_type": "stream",
     "text": [
      "c:\\git\\quanitze\\.venv\\Lib\\site-packages\\tqdm\\auto.py:21: TqdmWarning: IProgress not found. Please update jupyter and ipywidgets. See https://ipywidgets.readthedocs.io/en/stable/user_install.html\n",
      "  from .autonotebook import tqdm as notebook_tqdm\n"
     ]
    },
    {
     "name": "stdout",
     "output_type": "stream",
     "text": [
      "label\n",
      "0    12500\n",
      "1    12500\n",
      "Name: count, dtype: int64\n"
     ]
    },
    {
     "data": {
      "text/plain": [
       "DatasetDict({\n",
       "    train: Dataset({\n",
       "        features: ['text', 'label'],\n",
       "        num_rows: 1250\n",
       "    })\n",
       "    test: Dataset({\n",
       "        features: ['text', 'label'],\n",
       "        num_rows: 1250\n",
       "    })\n",
       "    unsupervised: Dataset({\n",
       "        features: ['text', 'label'],\n",
       "        num_rows: 2500\n",
       "    })\n",
       "})"
      ]
     },
     "execution_count": 1,
     "metadata": {},
     "output_type": "execute_result"
    }
   ],
   "source": [
    "from datasets import load_dataset,DatasetDict\n",
    "\n",
    "# Load IMDB dataset\n",
    "imdb = load_dataset(\"imdb\")\n",
    "\n",
    "# Check label distribution (0 = negative, 1 = positive)\n",
    "print(imdb[\"train\"].to_pandas()[\"label\"].value_counts())\n",
    "\n",
    "# Sample 10% from each split for faster training\n",
    "imdb = DatasetDict({\n",
    "    split: ds.shuffle(seed=42).select(range(int(0.05 * len(ds))))\n",
    "    for split, ds in imdb.items()\n",
    "})\n",
    "\n",
    "imdb\n"
   ]
  },
  {
   "cell_type": "code",
   "execution_count": 2,
   "id": "fcc9e3ef",
   "metadata": {},
   "outputs": [],
   "source": [
    "from transformers import TrainingArguments\n",
    "def get_args(): \n",
    "    return TrainingArguments(\n",
    "        output_dir=\"working_dir\",\n",
    "        per_device_train_batch_size=6,\n",
    "        per_device_eval_batch_size=32,\n",
    "        bf16=True,  \n",
    "        eval_strategy=\"epoch\",\n",
    "        seed=42, \n",
    "        data_seed=42,\n",
    "    )"
   ]
  },
  {
   "cell_type": "code",
   "execution_count": 3,
   "id": "53354407",
   "metadata": {},
   "outputs": [
    {
     "ename": "NameError",
     "evalue": "name 'model' is not defined",
     "output_type": "error",
     "traceback": [
      "\u001b[31m---------------------------------------------------------------------------\u001b[39m",
      "\u001b[31mNameError\u001b[39m                                 Traceback (most recent call last)",
      "\u001b[36mCell\u001b[39m\u001b[36m \u001b[39m\u001b[32mIn[3]\u001b[39m\u001b[32m, line 6\u001b[39m\n\u001b[32m      3\u001b[39m     \u001b[38;5;28;01mfor\u001b[39;00m name, module \u001b[38;5;129;01min\u001b[39;00m model.named_modules():\n\u001b[32m      4\u001b[39m         \u001b[38;5;28mprint\u001b[39m(\u001b[33mf\u001b[39m\u001b[33m\"\u001b[39m\u001b[33m- \u001b[39m\u001b[38;5;132;01m{\u001b[39;00mname\u001b[38;5;132;01m}\u001b[39;00m\u001b[33m\"\u001b[39m)\n\u001b[32m----> \u001b[39m\u001b[32m6\u001b[39m print_model_structure(\u001b[43mmodel\u001b[49m)\n",
      "\u001b[31mNameError\u001b[39m: name 'model' is not defined"
     ]
    }
   ],
   "source": [
    "def print_model_structure(model):\n",
    "    print(\"Model structure:\")\n",
    "    for name, module in model.named_modules():\n",
    "        print(f\"- {name}\")\n",
    "        \n",
    "print_model_structure(model)"
   ]
  },
  {
   "cell_type": "code",
   "execution_count": 8,
   "id": "20bdeb23",
   "metadata": {},
   "outputs": [
    {
     "name": "stdout",
     "output_type": "stream",
     "text": [
      "Initial GPU memory usage: 0.0 MB\n"
     ]
    }
   ],
   "source": [
    "import torch\n",
    "def get_gpu_memory():\n",
    "    \"\"\"Returns GPU memory usage in MB\"\"\"\n",
    "    if torch.cuda.is_available():\n",
    "        torch.cuda.empty_cache()  # Clear cache first\n",
    "        return torch.cuda.memory_allocated() / 1024**2\n",
    "    return 0\n",
    "\n",
    "print(\"Initial GPU memory usage:\", get_gpu_memory(), \"MB\")"
   ]
  },
  {
   "cell_type": "code",
   "execution_count": 34,
   "id": "7d4da780",
   "metadata": {},
   "outputs": [
    {
     "name": "stderr",
     "output_type": "stream",
     "text": [
      "Some weights of ModernBertForSequenceClassification were not initialized from the model checkpoint at answerdotai/ModernBERT-base and are newly initialized: ['classifier.bias', 'classifier.weight']\n",
      "You should probably TRAIN this model on a down-stream task to be able to use it for predictions and inference.\n"
     ]
    },
    {
     "name": "stdout",
     "output_type": "stream",
     "text": [
      "\n",
      "Loading base model...\n",
      "Base model memory usage: 588.79 MB\n",
      "Model device: cuda:0\n",
      "Base model memory usage: 588.79 MB\n",
      "Model device: cuda:0\n"
     ]
    }
   ],
   "source": [
    "from transformers import AutoTokenizer, DataCollatorWithPadding\n",
    "from transformers import AutoModelForSequenceClassification, BitsAndBytesConfig\n",
    "\n",
    "# Configure quantization\n",
    "quantization_config = BitsAndBytesConfig(load_in_8bit=True)\n",
    "\n",
    "model_name = 'answerdotai/ModernBERT-base'\n",
    "tokenizer = AutoTokenizer.from_pretrained(model_name, max_tokenz=1024)\n",
    "\n",
    "# Measure memory before loading base model\n",
    "print(\"\\nLoading base model...\")\n",
    "before_base = get_gpu_memory()\n",
    "model = AutoModelForSequenceClassification.from_pretrained(model_name, num_labels=2)\n",
    "model = model.cuda()  # Explicitly move to GPU\n",
    "after_base = get_gpu_memory()\n",
    "print(f\"Base model memory usage: {after_base - before_base:.2f} MB\")\n",
    "\n",
    "# Print model device to confirm\n",
    "print(f\"Model device: {next(model.parameters()).device}\")\n",
    "\n",
    "def tok_fn(example): \n",
    "    return tokenizer(example['text'], truncation=True)"
   ]
  },
  {
   "cell_type": "code",
   "execution_count": 40,
   "id": "73b9ca22",
   "metadata": {},
   "outputs": [],
   "source": [
    "from sklearn.metrics import classification_report, confusion_matrix\n",
    "import seaborn as sns\n",
    "import matplotlib.pyplot as plt\n",
    "\n",
    "def evaluate_model_full(model, test_dataset, name=\"Model\"):\n",
    "    \"\"\"Evaluate model with detailed metrics\"\"\"\n",
    "    print(f\"\\nEvaluating {name}...\")\n",
    "    \n",
    "    all_predictions = []\n",
    "    all_labels = []\n",
    "    model.eval()\n",
    "    \n",
    "    batch_size = 32\n",
    "    with torch.no_grad():\n",
    "        for i in range(0, len(test_dataset), batch_size):\n",
    "            batch = test_dataset[i:i + batch_size]\n",
    "            inputs = tokenizer(batch['text'], \n",
    "                             padding=True, \n",
    "                             truncation=True, \n",
    "                             return_tensors=\"pt\").to('cuda')\n",
    "            \n",
    "            outputs = model(**inputs)\n",
    "            predictions = outputs.logits.argmax(-1).cpu().numpy()\n",
    "            labels = batch['label']\n",
    "            \n",
    "            all_predictions.extend(predictions)\n",
    "            all_labels.extend(labels)\n",
    "        \n",
    "    \n",
    "    # Calculate metrics\n",
    "    print(f\"\\n{name} Classification Report:\")\n",
    "    print(classification_report(all_labels, all_predictions))\n",
    "    \n",
    "    # Plot confusion matrix\n",
    "    cm = confusion_matrix(all_labels, all_predictions)\n",
    "    plt.figure(figsize=(8, 6))\n",
    "    sns.heatmap(cm, annot=True, fmt='d', cmap='Blues')\n",
    "    plt.title(f'{name} Confusion Matrix')\n",
    "    plt.ylabel('True Label')\n",
    "    plt.xlabel('Predicted Label')\n",
    "    plt.show()\n",
    "    \n",
    "    return {\n",
    "        'predictions': all_predictions,\n",
    "        'labels': all_labels\n",
    "    }"
   ]
  },
  {
   "cell_type": "code",
   "execution_count": 41,
   "id": "ddd57e06",
   "metadata": {},
   "outputs": [
    {
     "name": "stdout",
     "output_type": "stream",
     "text": [
      "Starting detailed model evaluation...\n",
      "\n",
      "Evaluating Base Model...\n",
      "\n",
      "Base Model Classification Report:\n",
      "              precision    recall  f1-score   support\n",
      "\n",
      "           0       0.50      0.88      0.64       631\n",
      "           1       0.42      0.09      0.15       619\n",
      "\n",
      "    accuracy                           0.49      1250\n",
      "   macro avg       0.46      0.48      0.39      1250\n",
      "weighted avg       0.46      0.49      0.39      1250\n",
      "\n",
      "\n",
      "Base Model Classification Report:\n",
      "              precision    recall  f1-score   support\n",
      "\n",
      "           0       0.50      0.88      0.64       631\n",
      "           1       0.42      0.09      0.15       619\n",
      "\n",
      "    accuracy                           0.49      1250\n",
      "   macro avg       0.46      0.48      0.39      1250\n",
      "weighted avg       0.46      0.49      0.39      1250\n",
      "\n"
     ]
    },
    {
     "data": {
      "image/png": "[encoded data removed]",
      "text/plain": [
       "<Figure size 800x600 with 2 Axes>"
      ]
     },
     "metadata": {},
     "output_type": "display_data"
    },
    {
     "name": "stdout",
     "output_type": "stream",
     "text": [
      "\n",
      "Evaluating Quantized Model...\n",
      "\n",
      "Quantized Model Classification Report:\n",
      "              precision    recall  f1-score   support\n",
      "\n",
      "           0       0.54      0.79      0.64       631\n",
      "           1       0.59      0.30      0.40       619\n",
      "\n",
      "    accuracy                           0.55      1250\n",
      "   macro avg       0.56      0.55      0.52      1250\n",
      "weighted avg       0.56      0.55      0.52      1250\n",
      "\n",
      "\n",
      "Quantized Model Classification Report:\n",
      "              precision    recall  f1-score   support\n",
      "\n",
      "           0       0.54      0.79      0.64       631\n",
      "           1       0.59      0.30      0.40       619\n",
      "\n",
      "    accuracy                           0.55      1250\n",
      "   macro avg       0.56      0.55      0.52      1250\n",
      "weighted avg       0.56      0.55      0.52      1250\n",
      "\n"
     ]
    },
    {
     "data": {
      "image/png": "[encoded data removed]",
      "text/plain": [
       "<Figure size 800x600 with 2 Axes>"
      ]
     },
     "metadata": {},
     "output_type": "display_data"
    },
    {
     "name": "stdout",
     "output_type": "stream",
     "text": [
      "\n",
      "Model Agreement Analysis:\n",
      "----------------------------------------\n",
      "Total samples tested: 1250\n",
      "Number of matching predictions: 898\n",
      "Agreement rate: 0.7184\n",
      "Disagreement rate: 0.2816\n",
      "\n",
      "Reminder - Memory Usage:\n",
      "----------------------------------------\n",
      "Base Model Memory: 588.79 MB\n",
      "Quantized Model Memory: 180.76 MB\n",
      "Memory Savings: 408.04 MB\n"
     ]
    }
   ],
   "source": [
    "# Run evaluation on test subset\n",
    "print(\"Starting detailed model evaluation...\")\n",
    "\n",
    "# Get a subset of test data\n",
    "test_subset = imdb['test'].select(range(1250))  # Using 2000 examples for better statistics\n",
    "\n",
    "# Evaluate both models\n",
    "base_results = evaluate_model_full(model, test_subset, \"Base Model\")\n",
    "quantized_results = evaluate_model_full(quantized_model, test_subset, \"Quantized Model\")\n",
    "\n",
    "# Calculate agreement between models\n",
    "agreement = sum(b == q for b, q in zip(base_results['predictions'], quantized_results['predictions']))\n",
    "agreement_rate = agreement / len(base_results['predictions'])\n",
    "\n",
    "print(\"\\nModel Agreement Analysis:\")\n",
    "print(\"-\" * 40)\n",
    "print(f\"Total samples tested: {len(base_results['predictions'])}\")\n",
    "print(f\"Number of matching predictions: {agreement}\")\n",
    "print(f\"Agreement rate: {agreement_rate:.4f}\")\n",
    "print(f\"Disagreement rate: {1 - agreement_rate:.4f}\")\n",
    "\n",
    "# Memory comparison reminder\n",
    "print(\"\\nReminder - Memory Usage:\")\n",
    "print(\"-\" * 40)\n",
    "print(f\"Base Model Memory: {after_base - before_base:.2f} MB\")\n",
    "print(f\"Quantized Model Memory: {after_quantized - before_quantized:.2f} MB\")\n",
    "print(f\"Memory Savings: {(after_base - before_base) - (after_quantized - before_quantized):.2f} MB\")"
   ]
  },
  {
   "cell_type": "code",
   "execution_count": null,
   "id": "2468ad3f",
   "metadata": {},
   "outputs": [],
   "source": [
    "def evaluate_model(model, test_dataset, name=\"Model\"):\n",
    "    \"\"\"Evaluate model accuracy on test dataset\"\"\"\n",
    "    print(f\"\\nEvaluating {name}...\")\n",
    "    \n",
    "    correct = 0\n",
    "    total = 0\n",
    "    model.eval()  # Set to evaluation mode\n",
    "    \n",
    "    # Process in batches to be memory efficient\n",
    "    batch_size = 32\n",
    "    \n",
    "    with torch.no_grad():\n",
    "        for i in range(0, len(test_dataset), batch_size):\n",
    "            batch = test_dataset[i:i + batch_size]\n",
    "            inputs = tokenizer(batch['text'], \n",
    "                             padding=True, \n",
    "                             truncation=True, \n",
    "                             return_tensors=\"pt\").to('cuda')\n",
    "            \n",
    "            outputs = model(**inputs)\n",
    "            predictions = outputs.logits.argmax(-1)\n",
    "            correct += (predictions == torch.tensor(batch['label']).to('cuda')).sum().item()\n",
    "            total += len(batch)\n",
    "            \n",
    "            # Print progress\n",
    "            if (i + batch_size) % 320 == 0:\n",
    "                print(f\"Processed {i + batch_size}/{len(test_dataset)} examples...\")\n",
    "    \n",
    "    accuracy = correct / total\n",
    "    print(f\"{name} Accuracy: {accuracy:.4f}\")\n",
    "    return accuracy"
   ]
  },
  {
   "cell_type": "code",
   "execution_count": null,
   "id": "a97e006e",
   "metadata": {},
   "outputs": [],
   "source": [
    "# Get a subset of test data for quick comparison\n",
    "test_subset = imdb['test'].select(range(1000))  # Using 1000 examples for quick testing\n",
    "\n",
    "# Evaluate both models\n",
    "base_accuracy = evaluate_model(model, test_subset, \"Base Model\")\n",
    "quantized_accuracy = evaluate_model(quantized_model, test_subset, \"Quantized Model\")\n",
    "\n",
    "# Print comparison\n",
    "print(\"\\nAccuracy Comparison:\")\n",
    "print(\"-\" * 40)\n",
    "print(f\"Base Model Accuracy:     {base_accuracy:.4f}\")\n",
    "print(f\"Quantized Model Accuracy: {quantized_accuracy:.4f}\")\n",
    "print(f\"Accuracy Difference:     {abs(base_accuracy - quantized_accuracy):.4f}\")\n",
    "print(f\"Relative Performance:    {(quantized_accuracy / base_accuracy) * 100:.2f}%\")"
   ]
  },
  {
   "cell_type": "markdown",
   "id": "287e5a12",
   "metadata": {},
   "source": [
    "# Model Accuracy Comparison\n",
    "\n",
    "This comparison:\n",
    "1. Tests both models on the same subset of the IMDB test data\n",
    "2. Uses identical input processing and evaluation methods\n",
    "3. Reports both absolute accuracy and relative performance\n",
    "4. Processes data in batches to maintain memory efficiency\n",
    "\n",
    "Note: Both models are using the same untrained classification head, so accuracy will be random (~50%) until training. The important thing is to verify that both models perform similarly before training."
   ]
  },
  {
   "cell_type": "code",
   "execution_count": 2,
   "id": "76bf6d21",
   "metadata": {},
   "outputs": [
    {
     "name": "stderr",
     "output_type": "stream",
     "text": [
      "Device set to use cuda:0\n"
     ]
    }
   ],
   "source": [
    "from transformers import pipeline\n",
    "classifier = pipeline('text-classification', model=model, tokenizer=tokenizer)"
   ]
  },
  {
   "cell_type": "code",
   "execution_count": 7,
   "id": "612ca901",
   "metadata": {},
   "outputs": [
    {
     "name": "stdout",
     "output_type": "stream",
     "text": [
      "[{'label': 'LABEL_1', 'score': 0.7354471683502197}]\n"
     ]
    }
   ],
   "source": [
    "result = classifier(\"this is great!\")\n",
    "print(result)"
   ]
  },
  {
   "cell_type": "code",
   "execution_count": 21,
   "id": "72f1eae2",
   "metadata": {},
   "outputs": [],
   "source": [
    "import torch\n",
    "from sklearn.metrics import accuracy_score, classification_report, confusion_matrix\n",
    "import matplotlib.pyplot as plt\n",
    "import seaborn as sns\n",
    "\n",
    "def compare_model_accuracy(model1, model2, test_dataset, model1_name=\"Base Model\", model2_name=\"Quantized Model\", batch_size=32):\n",
    "    \"\"\"Compare accuracy between two models on the same test dataset\"\"\"\n",
    "    print(f\"Comparing {model1_name} vs {model2_name}...\")\n",
    "    \n",
    "    # Lists to store predictions\n",
    "    model1_preds = []\n",
    "    model2_preds = []\n",
    "    all_labels = []\n",
    "    \n",
    "    # Set models to evaluation mode\n",
    "    model1.eval()\n",
    "    model2.eval()\n",
    "    \n",
    "    # Process in batches\n",
    "    with torch.no_grad():\n",
    "        for i in range(0, len(test_dataset), batch_size):\n",
    "            batch = test_dataset[i:i + batch_size]\n",
    "            inputs = tokenizer(batch['text'], \n",
    "                             padding=True, \n",
    "                             truncation=True, \n",
    "                             return_tensors=\"pt\").to('cuda')\n",
    "            \n",
    "            # Get predictions from both models\n",
    "            outputs1 = model1(**inputs)\n",
    "            outputs2 = model2(**inputs)\n",
    "            \n",
    "            preds1 = outputs1.logits.argmax(-1).cpu().numpy()\n",
    "            preds2 = outputs2.logits.argmax(-1).cpu().numpy()\n",
    "            labels = batch['label']\n",
    "            \n",
    "            # Store predictions and labels\n",
    "            model1_preds.extend(preds1)\n",
    "            model2_preds.extend(preds2)\n",
    "            all_labels.extend(labels)\n",
    "            \n",
    "            # Print progress\n",
    "            if (i + batch_size) % 320 == 0:\n",
    "                print(f\"Processed {i + batch_size}/{len(test_dataset)} examples...\")\n",
    "    \n",
    "    # Calculate accuracy\n",
    "    model1_accuracy = accuracy_score(all_labels, model1_preds)\n",
    "    model2_accuracy = accuracy_score(all_labels, model2_preds)\n",
    "    \n",
    "    # Calculate agreement between models\n",
    "    agreement = sum(p1 == p2 for p1, p2 in zip(model1_preds, model2_preds))\n",
    "    agreement_rate = agreement / len(model1_preds)\n",
    "    \n",
    "    # Print results\n",
    "    print(\"\\nAccuracy Results:\")\n",
    "    print(\"-\" * 50)\n",
    "    print(f\"{model1_name} Accuracy: {model1_accuracy:.4f}\")\n",
    "    print(f\"{model2_name} Accuracy: {model2_accuracy:.4f}\")\n",
    "    print(f\"Accuracy Difference: {abs(model1_accuracy - model2_accuracy):.4f}\")\n",
    "    print(f\"Relative Performance: {(model2_accuracy / model1_accuracy) * 100:.2f}%\")\n",
    "    \n",
    "    print(\"\\nModel Agreement Analysis:\")\n",
    "    print(\"-\" * 50)\n",
    "    print(f\"Total samples tested: {len(model1_preds)}\")\n",
    "    print(f\"Number of matching predictions: {agreement}\")\n",
    "    print(f\"Agreement rate: {agreement_rate:.4f}\")\n",
    "    print(f\"Disagreement rate: {1 - agreement_rate:.4f}\")\n",
    "    \n",
    "    # Classification reports\n",
    "    print(f\"\\n{model1_name} Classification Report:\")\n",
    "    print(classification_report(all_labels, model1_preds))\n",
    "    \n",
    "    print(f\"\\n{model2_name} Classification Report:\")\n",
    "    print(classification_report(all_labels, model2_preds))\n",
    "    \n",
    "    # Plot confusion matrices\n",
    "    fig, (ax1, ax2) = plt.subplots(1, 2, figsize=(16, 6))\n",
    "    \n",
    "    cm1 = confusion_matrix(all_labels, model1_preds)\n",
    "    sns.heatmap(cm1, annot=True, fmt='d', cmap='Blues', ax=ax1)\n",
    "    ax1.set_title(f'{model1_name} Confusion Matrix')\n",
    "    ax1.set_ylabel('True Label')\n",
    "    ax1.set_xlabel('Predicted Label')\n",
    "    \n",
    "    cm2 = confusion_matrix(all_labels, model2_preds)\n",
    "    sns.heatmap(cm2, annot=True, fmt='d', cmap='Blues', ax=ax2)\n",
    "    ax2.set_title(f'{model2_name} Confusion Matrix')\n",
    "    ax2.set_ylabel('True Label')\n",
    "    ax2.set_xlabel('Predicted Label')\n",
    "    \n",
    "    plt.tight_layout()\n",
    "    plt.show()\n",
    "    \n",
    "    return {\n",
    "        'model1_preds': model1_preds,\n",
    "        'model2_preds': model2_preds,\n",
    "        'labels': all_labels,\n",
    "        'model1_accuracy': model1_accuracy,\n",
    "        'model2_accuracy': model2_accuracy,\n",
    "        'agreement_rate': agreement_rate\n",
    "    }\n"
   ]
  },
  {
   "cell_type": "code",
   "execution_count": 22,
   "id": "0d78c766",
   "metadata": {},
   "outputs": [
    {
     "name": "stdout",
     "output_type": "stream",
     "text": [
      "Comparing Base Model vs 8-bit Quantized Model...\n",
      "Processed 320/1250 examples...\n",
      "Processed 320/1250 examples...\n",
      "Processed 640/1250 examples...\n",
      "Processed 640/1250 examples...\n",
      "Processed 960/1250 examples...\n",
      "Processed 960/1250 examples...\n",
      "Processed 1280/1250 examples...\n",
      "\n",
      "Accuracy Results:\n",
      "--------------------------------------------------\n",
      "Base Model Accuracy: 0.4952\n",
      "8-bit Quantized Model Accuracy: 0.5208\n",
      "Accuracy Difference: 0.0256\n",
      "Relative Performance: 105.17%\n",
      "\n",
      "Model Agreement Analysis:\n",
      "--------------------------------------------------\n",
      "Total samples tested: 1250\n",
      "Number of matching predictions: 556\n",
      "Agreement rate: 0.4448\n",
      "Disagreement rate: 0.5552\n",
      "\n",
      "Base Model Classification Report:\n",
      "              precision    recall  f1-score   support\n",
      "\n",
      "           0       0.00      0.00      0.00       631\n",
      "           1       0.50      1.00      0.66       619\n",
      "\n",
      "    accuracy                           0.50      1250\n",
      "   macro avg       0.25      0.50      0.33      1250\n",
      "weighted avg       0.25      0.50      0.33      1250\n",
      "\n",
      "\n",
      "8-bit Quantized Model Classification Report:\n",
      "              precision    recall  f1-score   support\n",
      "\n",
      "           0       0.52      0.58      0.55       631\n",
      "           1       0.52      0.47      0.49       619\n",
      "\n",
      "    accuracy                           0.52      1250\n",
      "   macro avg       0.52      0.52      0.52      1250\n",
      "weighted avg       0.52      0.52      0.52      1250\n",
      "\n",
      "Processed 1280/1250 examples...\n",
      "\n",
      "Accuracy Results:\n",
      "--------------------------------------------------\n",
      "Base Model Accuracy: 0.4952\n",
      "8-bit Quantized Model Accuracy: 0.5208\n",
      "Accuracy Difference: 0.0256\n",
      "Relative Performance: 105.17%\n",
      "\n",
      "Model Agreement Analysis:\n",
      "--------------------------------------------------\n",
      "Total samples tested: 1250\n",
      "Number of matching predictions: 556\n",
      "Agreement rate: 0.4448\n",
      "Disagreement rate: 0.5552\n",
      "\n",
      "Base Model Classification Report:\n",
      "              precision    recall  f1-score   support\n",
      "\n",
      "           0       0.00      0.00      0.00       631\n",
      "           1       0.50      1.00      0.66       619\n",
      "\n",
      "    accuracy                           0.50      1250\n",
      "   macro avg       0.25      0.50      0.33      1250\n",
      "weighted avg       0.25      0.50      0.33      1250\n",
      "\n",
      "\n",
      "8-bit Quantized Model Classification Report:\n",
      "              precision    recall  f1-score   support\n",
      "\n",
      "           0       0.52      0.58      0.55       631\n",
      "           1       0.52      0.47      0.49       619\n",
      "\n",
      "    accuracy                           0.52      1250\n",
      "   macro avg       0.52      0.52      0.52      1250\n",
      "weighted avg       0.52      0.52      0.52      1250\n",
      "\n"
     ]
    },
    {
     "name": "stderr",
     "output_type": "stream",
     "text": [
      "c:\\git\\quanitze\\.venv\\Lib\\site-packages\\sklearn\\metrics\\_classification.py:1731: UndefinedMetricWarning: Precision is ill-defined and being set to 0.0 in labels with no predicted samples. Use `zero_division` parameter to control this behavior.\n",
      "  _warn_prf(average, modifier, f\"{metric.capitalize()} is\", result.shape[0])\n",
      "c:\\git\\quanitze\\.venv\\Lib\\site-packages\\sklearn\\metrics\\_classification.py:1731: UndefinedMetricWarning: Precision is ill-defined and being set to 0.0 in labels with no predicted samples. Use `zero_division` parameter to control this behavior.\n",
      "  _warn_prf(average, modifier, f\"{metric.capitalize()} is\", result.shape[0])\n",
      "c:\\git\\quanitze\\.venv\\Lib\\site-packages\\sklearn\\metrics\\_classification.py:1731: UndefinedMetricWarning: Precision is ill-defined and being set to 0.0 in labels with no predicted samples. Use `zero_division` parameter to control this behavior.\n",
      "  _warn_prf(average, modifier, f\"{metric.capitalize()} is\", result.shape[0])\n"
     ]
    },
    {
     "data": {
      "image/png": "[encoded data removed]",
      "text/plain": [
       "<Figure size 1600x600 with 4 Axes>"
      ]
     },
     "metadata": {},
     "output_type": "display_data"
    },
    {
     "name": "stdout",
     "output_type": "stream",
     "text": [
      "\n",
      "Memory Usage Comparison:\n",
      "--------------------------------------------------\n",
      "Base Model Memory: 583.40 MB\n",
      "Quantized Model Memory: -0.41 MB\n",
      "Memory Savings: 583.81 MB\n"
     ]
    }
   ],
   "source": [
    "# Clear memory before testing\n",
    "torch.cuda.empty_cache()\n",
    "\n",
    "# Select a subset of the test dataset for comprehensive evaluation\n",
    "# Using more examples for better statistical significance\n",
    "test_subset = imdb['test']\n",
    "\n",
    "# Run the comparison between base model and quantized model\n",
    "comparison_results = compare_model_accuracy(\n",
    "    model1=model,  # Base model\n",
    "    model2=quantized_model,  # Quantized model\n",
    "    test_dataset=test_subset,\n",
    "    model1_name=\"Base Model\",\n",
    "    model2_name=\"8-bit Quantized Model\",\n",
    "    batch_size=32\n",
    ")\n",
    "\n",
    "# Print memory usage comparison as a reminder\n",
    "print(\"\\nMemory Usage Comparison:\")\n",
    "print(\"-\" * 50)\n",
    "print(f\"Base Model Memory: {after_base - before_base:.2f} MB\")\n",
    "print(f\"Quantized Model Memory: {after_quantized - before_quantized:.2f} MB\")\n",
    "print(f\"Memory Savings: {(after_base - before_base) - (after_quantized - before_quantized):.2f} MB\")\n"
   ]
  },
  {
   "cell_type": "code",
   "execution_count": null,
   "id": "3dd91107",
   "metadata": {},
   "outputs": [],
   "source": [
    "tok_datasets = imdb.map(tok_fn, batched=True)\n",
    "data_collator = DataCollatorWithPadding(tokenizer=tokenizer)"
   ]
  },
  {
   "cell_type": "code",
   "execution_count": 9,
   "id": "0ba1e48a",
   "metadata": {},
   "outputs": [],
   "source": [
    "import torch\n",
    "torch.cuda.reset_peak_memory_stats()\n",
    "torch.cuda.empty_cache()\n",
    "torch.cuda.ipc_collect()"
   ]
  },
  {
   "cell_type": "code",
   "execution_count": null,
   "id": "033ef643",
   "metadata": {},
   "outputs": [
    {
     "name": "stderr",
     "output_type": "stream",
     "text": [
      "The tokenizer has new PAD/BOS/EOS tokens that differ from the model config and generation config. The model config and generation config were aligned accordingly, being updated with the tokenizer's values. Updated tokens: {'eos_token_id': None, 'bos_token_id': None}.\n"
     ]
    },
    {
     "data": {
      "text/html": [
       "\n",
       "    <div>\n",
       "      \n",
       "      <progress value='627' max='627' style='width:300px; height:20px; vertical-align: middle;'></progress>\n",
       "      [627/627 01:05, Epoch 3/3]\n",
       "    </div>\n",
       "    <table border=\"1\" class=\"dataframe\">\n",
       "  <thead>\n",
       " <tr style=\"text-align: left;\">\n",
       "      <th>Epoch</th>\n",
       "      <th>Training Loss</th>\n",
       "      <th>Validation Loss</th>\n",
       "    </tr>\n",
       "  </thead>\n",
       "  <tbody>\n",
       "    <tr>\n",
       "      <td>1</td>\n",
       "      <td>No log</td>\n",
       "      <td>0.509825</td>\n",
       "    </tr>\n",
       "    <tr>\n",
       "      <td>2</td>\n",
       "      <td>No log</td>\n",
       "      <td>0.322631</td>\n",
       "    </tr>\n",
       "    <tr>\n",
       "      <td>3</td>\n",
       "      <td>0.248900</td>\n",
       "      <td>0.316185</td>\n",
       "    </tr>\n",
       "  </tbody>\n",
       "</table><p>"
      ],
      "text/plain": [
       "<IPython.core.display.HTML object>"
      ]
     },
     "metadata": {},
     "output_type": "display_data"
    },
    {
     "data": {
      "text/plain": [
       "TrainOutput(global_step=627, training_loss=0.20701909711676542, metrics={'train_runtime': 65.5277, 'train_samples_per_second': 57.228, 'train_steps_per_second': 9.568, 'total_flos': 1553625500069832.0, 'train_loss': 0.20701909711676542, 'epoch': 3.0})"
      ]
     },
     "execution_count": 5,
     "metadata": {},
     "output_type": "execute_result"
    }
   ],
   "source": [
    "from transformers import Trainer\n",
    "trainer = Trainer(\n",
    "    model,\n",
    "    get_args(), \n",
    "    train_dataset=tok_datasets['train'],\n",
    "    eval_dataset=tok_datasets['test'],\n",
    "    data_collator=data_collator, \n",
    "    processing_class=tokenizer\n",
    ")\n",
    "trainer.train()"
   ]
  },
  {
   "cell_type": "code",
   "execution_count": null,
   "id": "5d7fb32b",
   "metadata": {},
   "outputs": [],
   "source": [
    "trainer.save_model(\"trained_model\")"
   ]
  },
  {
   "cell_type": "code",
   "execution_count": null,
   "id": "89c55234",
   "metadata": {},
   "outputs": [
    {
     "data": {
      "text/html": [],
      "text/plain": [
       "<IPython.core.display.HTML object>"
      ]
     },
     "metadata": {},
     "output_type": "display_data"
    }
   ],
   "source": [
    "preds = trainer.predict(tok_datasets['test'])\n",
    "pred_labels = preds.predictions.argmax(-1)"
   ]
  },
  {
   "cell_type": "code",
   "execution_count": null,
   "id": "4bcb3475",
   "metadata": {},
   "outputs": [
    {
     "name": "stdout",
     "output_type": "stream",
     "text": [
      "              precision    recall  f1-score   support\n",
      "\n",
      "           0       0.94      0.91      0.92       631\n",
      "           1       0.91      0.94      0.92       619\n",
      "\n",
      "    accuracy                           0.92      1250\n",
      "   macro avg       0.92      0.92      0.92      1250\n",
      "weighted avg       0.92      0.92      0.92      1250\n",
      "\n"
     ]
    }
   ],
   "source": [
    "from sklearn.metrics import classification_report\n",
    "print(classification_report(tok_datasets['test']['label'], pred_labels))"
   ]
  },
  {
   "cell_type": "code",
   "execution_count": null,
   "id": "256eddfc",
   "metadata": {},
   "outputs": [
    {
     "name": "stdout",
     "output_type": "stream",
     "text": [
      "              precision    recall  f1-score   support\n",
      "\n",
      "           0       0.85      0.77      0.81       631\n",
      "           1       0.79      0.86      0.82       619\n",
      "\n",
      "    accuracy                           0.82      1250\n",
      "   macro avg       0.82      0.82      0.81      1250\n",
      "weighted avg       0.82      0.82      0.81      1250\n",
      "\n"
     ]
    }
   ],
   "source": [
    "from sklearn.metrics import classification_report\n",
    "print(classification_report(tok_datasets['test']['label'], pred_labels))"
   ]
  },
  {
   "cell_type": "code",
   "execution_count": null,
   "id": "74b2428b",
   "metadata": {},
   "outputs": [
    {
     "name": "stdout",
     "output_type": "stream",
     "text": [
      "              precision    recall  f1-score   support\n",
      "\n",
      "           0       0.94      0.92      0.93       631\n",
      "           1       0.92      0.94      0.93       619\n",
      "\n",
      "    accuracy                           0.93      1250\n",
      "   macro avg       0.93      0.93      0.93      1250\n",
      "weighted avg       0.93      0.93      0.93      1250\n",
      "\n"
     ]
    }
   ],
   "source": [
    "from sklearn.metrics import classification_report\n",
    "print(classification_report(tok_datasets['test']['label'], pred_labels))"
   ]
  }
 ],
 "metadata": {
  "kernelspec": {
   "display_name": "quanitze",
   "language": "python",
   "name": "python3"
  },
  "language_info": {
   "codemirror_mode": {
    "name": "ipython",
    "version": 3
   },
   "file_extension": ".py",
   "mimetype": "text/x-python",
   "name": "python",
   "nbconvert_exporter": "python",
   "pygments_lexer": "ipython3",
   "version": "3.13.6"
  }
 },
 "nbformat": 4,
 "nbformat_minor": 5
}
